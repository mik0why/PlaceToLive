{
 "cells": [
  {
   "cell_type": "code",
   "execution_count": null,
   "metadata": {},
   "outputs": [],
   "source": [
    "#goal: have a table that looks like this\n",
    "#how to \n",
    "\n",
    "'''\n",
    "|country|first_idx|second_idx|third_idx|\n",
    "\n",
    "switzerland 1       13         12\n",
    "\n",
    "\n",
    "\n",
    "////\n",
    "\n",
    "then incorporate weights\n",
    "\n",
    "\n",
    "\n",
    "tables DONE:\n",
    "* salary (242) (biggest list?)\n",
    "* safety (163); 92 404s? need to inspect\n",
    "* life expectancy (183)\n",
    "* days off (194)\n",
    "\n",
    "\n",
    "\n",
    "\n",
    "------Q------\n",
    "what should NaN be replaced with?\n",
    "need to do manual inspection for some countries (e.g. safety - Luxembourg)\n",
    "'''\n",
    "\n",
    "\n",
    "\n",
    "\n",
    "\n",
    "\n",
    "\n"
   ]
  },
  {
   "cell_type": "code",
   "execution_count": 1,
   "metadata": {},
   "outputs": [
    {
     "data": {
      "text/html": [
       "<div>\n",
       "<style scoped>\n",
       "    .dataframe tbody tr th:only-of-type {\n",
       "        vertical-align: middle;\n",
       "    }\n",
       "\n",
       "    .dataframe tbody tr th {\n",
       "        vertical-align: top;\n",
       "    }\n",
       "\n",
       "    .dataframe thead th {\n",
       "        text-align: right;\n",
       "    }\n",
       "</style>\n",
       "<table border=\"1\" class=\"dataframe\">\n",
       "  <thead>\n",
       "    <tr style=\"text-align: right;\">\n",
       "      <th></th>\n",
       "      <th>Country</th>\n",
       "      <th>Salary</th>\n",
       "      <th>Safety</th>\n",
       "      <th>Life Expectancy</th>\n",
       "      <th>Days Off</th>\n",
       "    </tr>\n",
       "  </thead>\n",
       "  <tbody>\n",
       "    <tr>\n",
       "      <th>0</th>\n",
       "      <td>Switzerland</td>\n",
       "      <td>NaN</td>\n",
       "      <td>NaN</td>\n",
       "      <td>NaN</td>\n",
       "      <td>NaN</td>\n",
       "    </tr>\n",
       "    <tr>\n",
       "      <th>1</th>\n",
       "      <td>United States</td>\n",
       "      <td>NaN</td>\n",
       "      <td>NaN</td>\n",
       "      <td>NaN</td>\n",
       "      <td>NaN</td>\n",
       "    </tr>\n",
       "    <tr>\n",
       "      <th>2</th>\n",
       "      <td>Denmark</td>\n",
       "      <td>NaN</td>\n",
       "      <td>NaN</td>\n",
       "      <td>NaN</td>\n",
       "      <td>NaN</td>\n",
       "    </tr>\n",
       "    <tr>\n",
       "      <th>3</th>\n",
       "      <td>Japan</td>\n",
       "      <td>NaN</td>\n",
       "      <td>NaN</td>\n",
       "      <td>NaN</td>\n",
       "      <td>NaN</td>\n",
       "    </tr>\n",
       "    <tr>\n",
       "      <th>4</th>\n",
       "      <td>Luxembourg</td>\n",
       "      <td>NaN</td>\n",
       "      <td>NaN</td>\n",
       "      <td>NaN</td>\n",
       "      <td>NaN</td>\n",
       "    </tr>\n",
       "  </tbody>\n",
       "</table>\n",
       "</div>"
      ],
      "text/plain": [
       "         Country Salary Safety Life Expectancy Days Off\n",
       "0    Switzerland    NaN    NaN             NaN      NaN\n",
       "1  United States    NaN    NaN             NaN      NaN\n",
       "2        Denmark    NaN    NaN             NaN      NaN\n",
       "3          Japan    NaN    NaN             NaN      NaN\n",
       "4     Luxembourg    NaN    NaN             NaN      NaN"
      ]
     },
     "execution_count": 1,
     "metadata": {},
     "output_type": "execute_result"
    }
   ],
   "source": [
    "import pandas as pd\n",
    "\n",
    "sal = pd.read_csv(\"salary.csv\", delimiter = ';', header = None, index_col = False)\n",
    "sal.rename(columns = {0: 'salary idx', 1: 'Country', 2: 'Salary', 3: 'Currency', 4: 'Salary[USD]'}, inplace = True)\n",
    "sal.sort_values(by = 'Salary[USD]', ascending = False, inplace = True)\n",
    "sal.reset_index(drop=True, inplace=True)  \n",
    "sal.tail()\n",
    "sal.dropna(inplace = True)\n",
    "\n",
    "countries = []\n",
    "for country in sal['Country']:\n",
    "    countries.append(country)\n",
    "\n",
    "master = pd.DataFrame(columns = [\"Country\", \"Salary\", \"Safety\", \"Life Expectancy\", \"Days Off\"])\n",
    "master.head()\n",
    "master[\"Country\"] = countries\n",
    "\n",
    "master.head()\n",
    "\n",
    "\n",
    "\n",
    "#sal.drop(['NaN'])"
   ]
  },
  {
   "cell_type": "code",
   "execution_count": 27,
   "metadata": {},
   "outputs": [],
   "source": [
    "def master_add(column, listname = []):\n",
    "    print column\n",
    "    \n",
    "    for country in countries:\n",
    "        try:\n",
    "            value = listname[listname['Country']==country].index.item()\n",
    "            value+=1\n",
    "        except: #Country not found\n",
    "            print \"error\"\n",
    "            value = 404 #bc not found\n",
    "        \n",
    "    m_val = master[master['Country'] == country].index.item()   #not in the try block bc master has all the countries\n",
    "    master.at[m_val, column] = value #doesn't work?\n",
    "\n",
    "    print m_val, column, value\n",
    "            \n",
    "#print value, m_val\n",
    "#at master[country[m_val]] == value\n",
    "    #print master.head()\n",
    "    \n",
    "#read: changing dataframe inside a function\n",
    "    "
   ]
  },
  {
   "cell_type": "code",
   "execution_count": 28,
   "metadata": {},
   "outputs": [
    {
     "name": "stdout",
     "output_type": "stream",
     "text": [
      "Salary\n",
      "241 Salary 242\n"
     ]
    }
   ],
   "source": [
    "master_add(\"Salary\", sal)"
   ]
  },
  {
   "cell_type": "code",
   "execution_count": 4,
   "metadata": {},
   "outputs": [
    {
     "name": "stdout",
     "output_type": "stream",
     "text": [
      "         Country Salary Safety Life Expectancy Days Off\n",
      "0    Switzerland    NaN    NaN             NaN      NaN\n",
      "1  United States    NaN    NaN             NaN      NaN\n",
      "2        Denmark    NaN    NaN             NaN      NaN\n",
      "3          Japan    NaN    NaN             NaN      NaN\n",
      "4     Luxembourg    NaN    NaN             NaN      NaN\n"
     ]
    }
   ],
   "source": [
    "print master.head()"
   ]
  },
  {
   "cell_type": "code",
   "execution_count": 2,
   "metadata": {},
   "outputs": [
    {
     "name": "stdout",
     "output_type": "stream",
     "text": [
      "         Country Salary Safety Life Expectancy Days Off\n",
      "0    Switzerland      1    NaN             NaN      NaN\n",
      "1  United States      2    NaN             NaN      NaN\n",
      "2        Denmark      3    NaN             NaN      NaN\n",
      "3          Japan      4    NaN             NaN      NaN\n",
      "4     Luxembourg      5    NaN             NaN      NaN\n"
     ]
    }
   ],
   "source": [
    "for country in countries:\n",
    "    try:\n",
    "        value = sal[sal['Country']==country].index.item()\n",
    "        value+=1\n",
    "    except:\n",
    "        print \"Country not found\"\n",
    "        value = 404 #bc not found\n",
    "        \n",
    "    m_val = master[master['Country'] == country].index.item()   #not in the try block bc master has all the countries\n",
    "    master.at[m_val, \"Salary\"] = value\n",
    "    \n",
    "        \n",
    "#print value, m_val\n",
    "#at master[country[m_val]] == value\n",
    "\n",
    "print master.head()"
   ]
  },
  {
   "cell_type": "code",
   "execution_count": 3,
   "metadata": {},
   "outputs": [
    {
     "data": {
      "text/html": [
       "<div>\n",
       "<style scoped>\n",
       "    .dataframe tbody tr th:only-of-type {\n",
       "        vertical-align: middle;\n",
       "    }\n",
       "\n",
       "    .dataframe tbody tr th {\n",
       "        vertical-align: top;\n",
       "    }\n",
       "\n",
       "    .dataframe thead th {\n",
       "        text-align: right;\n",
       "    }\n",
       "</style>\n",
       "<table border=\"1\" class=\"dataframe\">\n",
       "  <thead>\n",
       "    <tr style=\"text-align: right;\">\n",
       "      <th></th>\n",
       "      <th>safety idx</th>\n",
       "      <th>Country</th>\n",
       "    </tr>\n",
       "  </thead>\n",
       "  <tbody>\n",
       "    <tr>\n",
       "      <th>0</th>\n",
       "      <td>1</td>\n",
       "      <td>Iceland</td>\n",
       "    </tr>\n",
       "    <tr>\n",
       "      <th>1</th>\n",
       "      <td>2</td>\n",
       "      <td>New Zealand</td>\n",
       "    </tr>\n",
       "    <tr>\n",
       "      <th>2</th>\n",
       "      <td>3</td>\n",
       "      <td>Portugal</td>\n",
       "    </tr>\n",
       "    <tr>\n",
       "      <th>3</th>\n",
       "      <td>4</td>\n",
       "      <td>Austria</td>\n",
       "    </tr>\n",
       "    <tr>\n",
       "      <th>4</th>\n",
       "      <td>5</td>\n",
       "      <td>Denmark</td>\n",
       "    </tr>\n",
       "  </tbody>\n",
       "</table>\n",
       "</div>"
      ],
      "text/plain": [
       "   safety idx      Country\n",
       "0           1      Iceland\n",
       "1           2  New Zealand\n",
       "2           3     Portugal\n",
       "3           4      Austria\n",
       "4           5      Denmark"
      ]
     },
     "execution_count": 3,
     "metadata": {},
     "output_type": "execute_result"
    }
   ],
   "source": [
    "#already sorted\n",
    "\n",
    "saf = pd.read_csv(\"scrapers/safety.csv\", delimiter = ';', header = None, index_col = False)\n",
    "saf.rename(columns = {0: 'safety idx', 1: 'Country', 2: 'Score'}, inplace = True)\n",
    "saf.drop(columns = \"Score\", axis = 1, inplace = True)\n",
    "\n",
    "saf.head()\n",
    "#saf.head()"
   ]
  },
  {
   "cell_type": "code",
   "execution_count": 4,
   "metadata": {},
   "outputs": [
    {
     "name": "stdout",
     "output_type": "stream",
     "text": [
      "         Country Salary Safety Life Expectancy Days Off\n",
      "0    Switzerland      1     10             NaN      NaN\n",
      "1  United States      2    128             NaN      NaN\n",
      "2        Denmark      3      5             NaN      NaN\n",
      "3          Japan      4      9             NaN      NaN\n",
      "4     Luxembourg      5    404             NaN      NaN\n"
     ]
    }
   ],
   "source": [
    "for country in countries:\n",
    "    try:\n",
    "        value = saf[saf['Country']==country].index.item()\n",
    "        value+=1\n",
    "    except:\n",
    "     #   print \"Country not found\"\n",
    "        value = 404 #bc not found\n",
    "        \n",
    "    m_val = master[master['Country'] == country].index.item()   #not in the try block bc master has all the countries\n",
    "    master.at[m_val, \"Safety\"] = value\n",
    "    \n",
    "        \n",
    "#print value, m_val\n",
    "#at master[country[m_val]] == value\n",
    "\n",
    "print master.head()"
   ]
  },
  {
   "cell_type": "code",
   "execution_count": 49,
   "metadata": {},
   "outputs": [
    {
     "name": "stdout",
     "output_type": "stream",
     "text": [
      "92\n"
     ]
    }
   ],
   "source": [
    "#let's see how many 404\n",
    "\n",
    "list = [master[\"Safety\"] == 404]\n",
    "i = 0\n",
    "for entry in list[0]:\n",
    "    if entry is True:\n",
    "        i+=1\n",
    "print i\n",
    "\n"
   ]
  },
  {
   "cell_type": "code",
   "execution_count": 50,
   "metadata": {},
   "outputs": [
    {
     "data": {
      "text/html": [
       "<div>\n",
       "<style scoped>\n",
       "    .dataframe tbody tr th:only-of-type {\n",
       "        vertical-align: middle;\n",
       "    }\n",
       "\n",
       "    .dataframe tbody tr th {\n",
       "        vertical-align: top;\n",
       "    }\n",
       "\n",
       "    .dataframe thead th {\n",
       "        text-align: right;\n",
       "    }\n",
       "</style>\n",
       "<table border=\"1\" class=\"dataframe\">\n",
       "  <thead>\n",
       "    <tr style=\"text-align: right;\">\n",
       "      <th></th>\n",
       "      <th>life exp idx</th>\n",
       "      <th>Country</th>\n",
       "    </tr>\n",
       "  </thead>\n",
       "  <tbody>\n",
       "    <tr>\n",
       "      <th>0</th>\n",
       "      <td>1</td>\n",
       "      <td>Japan</td>\n",
       "    </tr>\n",
       "    <tr>\n",
       "      <th>1</th>\n",
       "      <td>2</td>\n",
       "      <td>Switzerland</td>\n",
       "    </tr>\n",
       "    <tr>\n",
       "      <th>2</th>\n",
       "      <td>3</td>\n",
       "      <td>Singapore</td>\n",
       "    </tr>\n",
       "    <tr>\n",
       "      <th>3</th>\n",
       "      <td>4</td>\n",
       "      <td>Australia</td>\n",
       "    </tr>\n",
       "    <tr>\n",
       "      <th>4</th>\n",
       "      <td>5</td>\n",
       "      <td>Spain</td>\n",
       "    </tr>\n",
       "  </tbody>\n",
       "</table>\n",
       "</div>"
      ],
      "text/plain": [
       "   life exp idx      Country\n",
       "0             1        Japan\n",
       "1             2  Switzerland\n",
       "2             3    Singapore\n",
       "3             4    Australia\n",
       "4             5        Spain"
      ]
     },
     "execution_count": 50,
     "metadata": {},
     "output_type": "execute_result"
    }
   ],
   "source": [
    "#already sorted\n",
    "\n",
    "life_exp = pd.read_csv(\"scrapers/life-exp.csv\", delimiter = ';', header = None, index_col = False)\n",
    "life_exp.rename(columns = {0: 'life exp idx', 1: 'Country', 2: 'Predicted Score'}, inplace = True)\n",
    "life_exp.drop(columns = \"Predicted Score\", inplace = True)\n",
    "life_exp.head()\n",
    "\n"
   ]
  },
  {
   "cell_type": "code",
   "execution_count": 10,
   "metadata": {},
   "outputs": [
    {
     "data": {
      "text/plain": [
       "194"
      ]
     },
     "execution_count": 10,
     "metadata": {},
     "output_type": "execute_result"
    }
   ],
   "source": [
    "days_off = pd.read_csv(\"scrapers/days_off.csv\", delimiter = ';', header = None, index_col = False)\n",
    "days_off.sort_values(by = 2, ascending = False, inplace = True)\n",
    "days_off.reset_index(drop=True, inplace=True)  \n",
    "days_off.drop(columns = 0, inplace = True)\n",
    "days_off.rename(columns = {1: 'Country', 2: 'Days Off'}, inplace = True)\n",
    "\n",
    "\n",
    "\n",
    "days_off.head()\n",
    "\n",
    "len(days_off)"
   ]
  },
  {
   "cell_type": "code",
   "execution_count": 11,
   "metadata": {},
   "outputs": [
    {
     "name": "stdout",
     "output_type": "stream",
     "text": [
      "83\n"
     ]
    }
   ],
   "source": [
    "days_off.iloc[[50]]\n",
    "days_off[days_off['Country']==\"United States\"].index.item() \n",
    "try:\n",
    "    val = days_off[days_off['Country']==\"United Kingdom\"].index.item()\n",
    "    print val\n",
    "except: # country not in the list\n",
    "    print \"na\"\n",
    "        \n"
   ]
  },
  {
   "cell_type": "code",
   "execution_count": null,
   "metadata": {},
   "outputs": [],
   "source": []
  }
 ],
 "metadata": {
  "kernelspec": {
   "display_name": "Python 2",
   "language": "python",
   "name": "python2"
  },
  "language_info": {
   "codemirror_mode": {
    "name": "ipython",
    "version": 2
   },
   "file_extension": ".py",
   "mimetype": "text/x-python",
   "name": "python",
   "nbconvert_exporter": "python",
   "pygments_lexer": "ipython2",
   "version": "2.7.15"
  }
 },
 "nbformat": 4,
 "nbformat_minor": 2
}
